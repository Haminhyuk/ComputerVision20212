{
 "cells": [
  {
   "cell_type": "markdown",
   "id": "1fcc9dc5-49ce-43d2-8ff8-316a0f4e045b",
   "metadata": {},
   "source": [
    "# For Loops 1"
   ]
  },
  {
   "cell_type": "code",
   "execution_count": 3,
   "id": "34ee993e-27b1-4b5a-a37b-0eeb46afcda5",
   "metadata": {},
   "outputs": [
    {
     "name": "stdout",
     "output_type": "stream",
     "text": [
      "H\n",
      "e\n",
      "l\n",
      "l\n",
      "o\n",
      " \n",
      "W\n",
      "o\n",
      "r\n",
      "l\n",
      "d\n"
     ]
    }
   ],
   "source": [
    "for someChar in \"Hello World\":\n",
    "    print(someChar)"
   ]
  },
  {
   "cell_type": "markdown",
   "id": "00b31eef-a73d-4e78-b751-b8f3fc778e75",
   "metadata": {},
   "source": [
    "# For Loops 2"
   ]
  },
  {
   "cell_type": "code",
   "execution_count": 9,
   "id": "2ea613e8-924d-4069-be9f-fb441483d2db",
   "metadata": {},
   "outputs": [
    {
     "name": "stdout",
     "output_type": "stream",
     "text": [
      "5\n",
      "6\n",
      "8\n",
      "9\n"
     ]
    }
   ],
   "source": [
    "for (x, y) in [(1,5), (2,6), (3,8), (4,9)]:\n",
    "    print(y)"
   ]
  },
  {
   "cell_type": "markdown",
   "id": "778b4bec-d055-464b-bf3f-5fb01e515f6b",
   "metadata": {},
   "source": [
    "# For loops and the range() function"
   ]
  },
  {
   "cell_type": "code",
   "execution_count": 11,
   "id": "f6e48b05-9a85-4e27-abe7-1738f0c2dc68",
   "metadata": {},
   "outputs": [
    {
     "name": "stdout",
     "output_type": "stream",
     "text": [
      "0\n",
      "1\n",
      "2\n",
      "3\n",
      "4\n"
     ]
    }
   ],
   "source": [
    "for x in range(5):\n",
    "    print(x)"
   ]
  },
  {
   "cell_type": "markdown",
   "id": "a518f6f6-44f2-4257-82e5-c2f459fe8788",
   "metadata": {},
   "source": [
    "# Abuse of the range() function"
   ]
  },
  {
   "cell_type": "code",
   "execution_count": 23,
   "id": "6f3403ad-8f2f-45c0-b9ea-ce56191b5eb9",
   "metadata": {},
   "outputs": [
    {
     "name": "stdout",
     "output_type": "stream",
     "text": [
      "0\n",
      "1\n",
      "2\n",
      "3\n",
      "4\n",
      "5\n"
     ]
    }
   ],
   "source": [
    "for i in range(len('number')):\n",
    "    print(i), 'number'[i]"
   ]
  },
  {
   "cell_type": "code",
   "execution_count": 20,
   "id": "a3d75f0e-e787-4146-9066-7f8f917c3ee8",
   "metadata": {},
   "outputs": [
    {
     "name": "stdout",
     "output_type": "stream",
     "text": [
      "0 H\n",
      "1 i\n"
     ]
    }
   ],
   "source": [
    "for (i, item) in enumerate('Hi'):\n",
    "    print(i, item)"
   ]
  },
  {
   "cell_type": "code",
   "execution_count": null,
   "id": "a6b86532-9a23-47ca-8a23-9a63e679f4b7",
   "metadata": {},
   "outputs": [],
   "source": []
  }
 ],
 "metadata": {
  "kernelspec": {
   "display_name": "Python 3",
   "language": "python",
   "name": "python3"
  },
  "language_info": {
   "codemirror_mode": {
    "name": "ipython",
    "version": 3
   },
   "file_extension": ".py",
   "mimetype": "text/x-python",
   "name": "python",
   "nbconvert_exporter": "python",
   "pygments_lexer": "ipython3",
   "version": "3.9.4"
  }
 },
 "nbformat": 4,
 "nbformat_minor": 5
}
