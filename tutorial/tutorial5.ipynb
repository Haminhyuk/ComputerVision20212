{
 "cells": [
  {
   "cell_type": "markdown",
   "id": "aa9d7a06-c46f-468c-8a83-d0dfee53c0ef",
   "metadata": {},
   "source": [
    "# if Statements (as expected)"
   ]
  },
  {
   "cell_type": "code",
   "execution_count": 9,
   "id": "d24b80bc-fdd4-4080-a0cb-333df5e79bf6",
   "metadata": {},
   "outputs": [],
   "source": [
    "x = 1"
   ]
  },
  {
   "cell_type": "code",
   "execution_count": 10,
   "id": "3209960e-45cc-4a13-9cae-887e6477a4c7",
   "metadata": {},
   "outputs": [
    {
     "name": "stdout",
     "output_type": "stream",
     "text": [
      "X equals something else.\n",
      "This is outside the 'if'\n"
     ]
    }
   ],
   "source": [
    "if x == 3:\n",
    "    print(\"X equals 3.\")\n",
    "elif x == 2:\n",
    "    print(\"X equals 2.\")\n",
    "else:\n",
    "    print(\"X equals something else.\")\n",
    "print(\"This is outside the 'if'\")"
   ]
  },
  {
   "cell_type": "markdown",
   "id": "24cb02aa-0c12-4f12-a9af-acd4be381acb",
   "metadata": {},
   "source": [
    "# while Loops (as expected)"
   ]
  },
  {
   "cell_type": "code",
   "execution_count": 11,
   "id": "b6aba2f0-b949-4b9c-8867-5c21315c7bf5",
   "metadata": {},
   "outputs": [],
   "source": [
    "x = 3"
   ]
  },
  {
   "cell_type": "code",
   "execution_count": 13,
   "id": "dd468dfc-6426-4f16-bd92-a9d16e412901",
   "metadata": {},
   "outputs": [
    {
     "name": "stdout",
     "output_type": "stream",
     "text": [
      "3 still in the loop\n",
      "4 still in the loop\n"
     ]
    }
   ],
   "source": [
    "while x < 5:\n",
    "    print (x, \"still in the loop\")\n",
    "    x = x + 1"
   ]
  },
  {
   "cell_type": "code",
   "execution_count": 14,
   "id": "d4f09c27-7314-44d0-99d8-df9c4622b135",
   "metadata": {},
   "outputs": [],
   "source": [
    "x = 6"
   ]
  },
  {
   "cell_type": "code",
   "execution_count": 15,
   "id": "c2e77376-60d5-4932-b301-d0f18d840e2b",
   "metadata": {},
   "outputs": [],
   "source": [
    "while x < 5:\n",
    "    print (x, \"still in the loop\")"
   ]
  },
  {
   "cell_type": "code",
   "execution_count": 16,
   "id": "f3f71a47-7e2d-40e7-9bec-2d317bc69969",
   "metadata": {},
   "outputs": [],
   "source": [
    "assert(4 < 5)"
   ]
  },
  {
   "cell_type": "code",
   "execution_count": null,
   "id": "e0d1d128-d241-4a68-b2b7-759e9de5bf31",
   "metadata": {},
   "outputs": [],
   "source": []
  }
 ],
 "metadata": {
  "kernelspec": {
   "display_name": "Python 3",
   "language": "python",
   "name": "python3"
  },
  "language_info": {
   "codemirror_mode": {
    "name": "ipython",
    "version": 3
   },
   "file_extension": ".py",
   "mimetype": "text/x-python",
   "name": "python",
   "nbconvert_exporter": "python",
   "pygments_lexer": "ipython3",
   "version": "3.9.4"
  }
 },
 "nbformat": 4,
 "nbformat_minor": 5
}
