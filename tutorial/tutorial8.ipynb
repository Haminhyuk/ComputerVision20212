{
 "cells": [
  {
   "cell_type": "markdown",
   "id": "b3721c95-5be2-4849-b7b8-645f2a651709",
   "metadata": {},
   "source": [
    "# Defining Functions"
   ]
  },
  {
   "cell_type": "code",
   "execution_count": 4,
   "id": "35399ad8-52da-4664-a17e-f9e926fcdabf",
   "metadata": {},
   "outputs": [
    {
     "data": {
      "text/plain": [
       "Ellipsis"
      ]
     },
     "execution_count": 4,
     "metadata": {},
     "output_type": "execute_result"
    }
   ],
   "source": [
    "def get_final_answer(filenames):\n",
    "    \"\"\"Documnetation String\"\"\"\n",
    "    line1\n",
    "    line2\n",
    "    return total_counter\n",
    "..."
   ]
  },
  {
   "cell_type": "markdown",
   "id": "4cf657b2-023f-4596-8e3f-f9d810ea1e4c",
   "metadata": {},
   "source": [
    "# Calling a Function"
   ]
  },
  {
   "cell_type": "code",
   "execution_count": 5,
   "id": "0e7bc620-1869-4228-b091-8279b4989491",
   "metadata": {},
   "outputs": [],
   "source": [
    "def myfun(x, y):\n",
    "    return x * y"
   ]
  },
  {
   "cell_type": "code",
   "execution_count": 6,
   "id": "cfea3d96-9ad3-46f0-a3b0-dffe52b6d76d",
   "metadata": {},
   "outputs": [
    {
     "data": {
      "text/plain": [
       "12"
      ]
     },
     "execution_count": 6,
     "metadata": {},
     "output_type": "execute_result"
    }
   ],
   "source": [
    "myfun(3,4)"
   ]
  },
  {
   "cell_type": "markdown",
   "id": "e2425fa0-4c10-4034-82d6-fa42b8a98f3e",
   "metadata": {},
   "source": [
    "# Functions are first-class objects in Python"
   ]
  },
  {
   "cell_type": "code",
   "execution_count": 7,
   "id": "82d489a8-8b21-4225-85a6-703b693294d2",
   "metadata": {},
   "outputs": [],
   "source": [
    "def myfun(x):\n",
    "    return x*3"
   ]
  },
  {
   "cell_type": "code",
   "execution_count": 8,
   "id": "36e8ecf8-6aa5-4933-b200-c99e616b25ac",
   "metadata": {},
   "outputs": [],
   "source": [
    "def apply(q, x):\n",
    "    return q(x)"
   ]
  },
  {
   "cell_type": "code",
   "execution_count": 9,
   "id": "b124566a-2272-41e1-9576-abdd0e74ea9f",
   "metadata": {},
   "outputs": [
    {
     "data": {
      "text/plain": [
       "21"
      ]
     },
     "execution_count": 9,
     "metadata": {},
     "output_type": "execute_result"
    }
   ],
   "source": [
    "apply(myfun, 7)"
   ]
  },
  {
   "cell_type": "markdown",
   "id": "c6ab51e7-62df-470f-b21c-a033c008afd1",
   "metadata": {},
   "source": [
    "# Lambda Notation"
   ]
  },
  {
   "cell_type": "code",
   "execution_count": 10,
   "id": "12c29c96-5ee5-4da2-be25-9cefbeeb4bb0",
   "metadata": {},
   "outputs": [
    {
     "data": {
      "text/plain": [
       "28"
      ]
     },
     "execution_count": 10,
     "metadata": {},
     "output_type": "execute_result"
    }
   ],
   "source": [
    "apply(lambda z: z * 4, 7)"
   ]
  },
  {
   "cell_type": "markdown",
   "id": "c9a0e6ac-56e6-4eb1-810e-a856ab5a970e",
   "metadata": {},
   "source": [
    "# Default Values for Arguments"
   ]
  },
  {
   "cell_type": "code",
   "execution_count": 11,
   "id": "8e8c7fb0-5db4-41c8-a163-3567ff91d64a",
   "metadata": {},
   "outputs": [],
   "source": [
    "def myfun(b, c=3, d=\"hello\"):\n",
    "    return b + c"
   ]
  },
  {
   "cell_type": "code",
   "execution_count": 12,
   "id": "77ee1a58-2bf3-4f58-ad1e-b660c9b5726e",
   "metadata": {},
   "outputs": [
    {
     "data": {
      "text/plain": [
       "8"
      ]
     },
     "execution_count": 12,
     "metadata": {},
     "output_type": "execute_result"
    }
   ],
   "source": [
    "myfun(5, 3, \"hello\")"
   ]
  },
  {
   "cell_type": "code",
   "execution_count": 13,
   "id": "6ce42e0c-b90a-4c81-8707-bc65e2e9ebe2",
   "metadata": {},
   "outputs": [
    {
     "data": {
      "text/plain": [
       "8"
      ]
     },
     "execution_count": 13,
     "metadata": {},
     "output_type": "execute_result"
    }
   ],
   "source": [
    "myfun(5,3)"
   ]
  },
  {
   "cell_type": "code",
   "execution_count": 14,
   "id": "0f64a702-f20c-47c9-b9bb-8ba478a88904",
   "metadata": {},
   "outputs": [
    {
     "data": {
      "text/plain": [
       "8"
      ]
     },
     "execution_count": 14,
     "metadata": {},
     "output_type": "execute_result"
    }
   ],
   "source": [
    "myfun(5)"
   ]
  },
  {
   "cell_type": "markdown",
   "id": "b606fce5-d558-476f-9ab8-7f396639de90",
   "metadata": {},
   "source": [
    "# Keyword Arguments"
   ]
  },
  {
   "cell_type": "code",
   "execution_count": 15,
   "id": "cf0f60e2-f648-45d0-b133-be3f9f954098",
   "metadata": {},
   "outputs": [],
   "source": [
    "def myfun (a, b, c):\n",
    "    return a-b"
   ]
  },
  {
   "cell_type": "code",
   "execution_count": 16,
   "id": "e5d7bf10-174d-4d85-8d67-c46333541f65",
   "metadata": {},
   "outputs": [
    {
     "data": {
      "text/plain": [
       "1"
      ]
     },
     "execution_count": 16,
     "metadata": {},
     "output_type": "execute_result"
    }
   ],
   "source": [
    "myfun(2, 1, 43)"
   ]
  },
  {
   "cell_type": "code",
   "execution_count": 17,
   "id": "5187bda7-92d2-47c3-9fe9-3ff95590e1ff",
   "metadata": {},
   "outputs": [
    {
     "data": {
      "text/plain": [
       "1"
      ]
     },
     "execution_count": 17,
     "metadata": {},
     "output_type": "execute_result"
    }
   ],
   "source": [
    "myfun(c=43, b=1, a=2)"
   ]
  },
  {
   "cell_type": "code",
   "execution_count": 18,
   "id": "5a4169f7-2a34-4194-82ba-6cd075f451e0",
   "metadata": {},
   "outputs": [
    {
     "data": {
      "text/plain": [
       "1"
      ]
     },
     "execution_count": 18,
     "metadata": {},
     "output_type": "execute_result"
    }
   ],
   "source": [
    "myfun(2, c=43, b=1)"
   ]
  },
  {
   "cell_type": "code",
   "execution_count": null,
   "id": "3e305b06-d6a5-4c34-878a-be6aaba5cc4c",
   "metadata": {},
   "outputs": [],
   "source": []
  }
 ],
 "metadata": {
  "kernelspec": {
   "display_name": "Python 3",
   "language": "python",
   "name": "python3"
  },
  "language_info": {
   "codemirror_mode": {
    "name": "ipython",
    "version": 3
   },
   "file_extension": ".py",
   "mimetype": "text/x-python",
   "name": "python",
   "nbconvert_exporter": "python",
   "pygments_lexer": "ipython3",
   "version": "3.9.4"
  }
 },
 "nbformat": 4,
 "nbformat_minor": 5
}
