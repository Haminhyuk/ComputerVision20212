{
 "cells": [
  {
   "cell_type": "markdown",
   "id": "7f27a052-dc4d-44a5-bdb9-80790b06839d",
   "metadata": {},
   "source": [
    "# Creating and accessing dictionaries"
   ]
  },
  {
   "cell_type": "code",
   "execution_count": 32,
   "id": "ab3aeb67-1115-4bcc-ac34-393a735638d3",
   "metadata": {},
   "outputs": [],
   "source": [
    "d = { 'user':'bozo', 'pswd': 1234}"
   ]
  },
  {
   "cell_type": "code",
   "execution_count": 33,
   "id": "a9233781-691a-4ecd-952a-ebbe556e4ea0",
   "metadata": {},
   "outputs": [
    {
     "data": {
      "text/plain": [
       "'bozo'"
      ]
     },
     "execution_count": 33,
     "metadata": {},
     "output_type": "execute_result"
    }
   ],
   "source": [
    "d['user']"
   ]
  },
  {
   "cell_type": "code",
   "execution_count": 34,
   "id": "1f9025cc-5fbc-42a8-adab-d0d5748b2647",
   "metadata": {},
   "outputs": [
    {
     "data": {
      "text/plain": [
       "1234"
      ]
     },
     "execution_count": 34,
     "metadata": {},
     "output_type": "execute_result"
    }
   ],
   "source": [
    "d['pswd']"
   ]
  },
  {
   "cell_type": "code",
   "execution_count": 35,
   "id": "0ced359b-df77-4863-9863-30ee94a5c954",
   "metadata": {},
   "outputs": [
    {
     "ename": "KeyError",
     "evalue": "'bozo'",
     "output_type": "error",
     "traceback": [
      "\u001b[1;31m---------------------------------------------------------------------------\u001b[0m",
      "\u001b[1;31mKeyError\u001b[0m                                  Traceback (most recent call last)",
      "\u001b[1;32m<ipython-input-35-6355f0876eaa>\u001b[0m in \u001b[0;36m<module>\u001b[1;34m\u001b[0m\n\u001b[1;32m----> 1\u001b[1;33m \u001b[0md\u001b[0m\u001b[1;33m[\u001b[0m\u001b[1;34m'bozo'\u001b[0m\u001b[1;33m]\u001b[0m\u001b[1;33m\u001b[0m\u001b[1;33m\u001b[0m\u001b[0m\n\u001b[0m",
      "\u001b[1;31mKeyError\u001b[0m: 'bozo'"
     ]
    }
   ],
   "source": [
    "d['bozo']"
   ]
  },
  {
   "cell_type": "markdown",
   "id": "4a6befd7-515d-48c6-9ae9-5755ba571041",
   "metadata": {},
   "source": [
    "# Updating Dictionaries"
   ]
  },
  {
   "cell_type": "code",
   "execution_count": 14,
   "id": "5d6c7b23-ee16-4e52-9390-91880913b95f",
   "metadata": {},
   "outputs": [],
   "source": [
    "d['user'] = 'clown'"
   ]
  },
  {
   "cell_type": "code",
   "execution_count": 15,
   "id": "bdc18037-7c46-46fd-8f57-98e98cf1a61d",
   "metadata": {},
   "outputs": [
    {
     "data": {
      "text/plain": [
       "1234"
      ]
     },
     "execution_count": 15,
     "metadata": {},
     "output_type": "execute_result"
    }
   ],
   "source": [
    "d['pswd']"
   ]
  },
  {
   "cell_type": "code",
   "execution_count": 16,
   "id": "4bec4491-d258-4e24-88c7-e80375818908",
   "metadata": {},
   "outputs": [
    {
     "data": {
      "text/plain": [
       "{'user': 'clown', 'pswd': 1234}"
      ]
     },
     "execution_count": 16,
     "metadata": {},
     "output_type": "execute_result"
    }
   ],
   "source": [
    "d"
   ]
  },
  {
   "cell_type": "code",
   "execution_count": 17,
   "id": "85ef45c8-d5b0-4500-8cb6-aa132d293c1c",
   "metadata": {},
   "outputs": [],
   "source": [
    "d['id'] = 45"
   ]
  },
  {
   "cell_type": "code",
   "execution_count": 18,
   "id": "84c56c66-afe1-4c2a-af17-dab7fd5bb538",
   "metadata": {},
   "outputs": [
    {
     "data": {
      "text/plain": [
       "{'user': 'clown', 'pswd': 1234, 'id': 45}"
      ]
     },
     "execution_count": 18,
     "metadata": {},
     "output_type": "execute_result"
    }
   ],
   "source": [
    "d"
   ]
  },
  {
   "cell_type": "markdown",
   "id": "d64060e5-dc28-40c2-8398-0f3cacc22f4d",
   "metadata": {},
   "source": [
    "# Removing dictionary entries"
   ]
  },
  {
   "cell_type": "code",
   "execution_count": 19,
   "id": "13e068b4-e37f-4696-a230-d0060ff50bfa",
   "metadata": {},
   "outputs": [],
   "source": [
    "d = {'user':'bozo', 'p':1234, 'i':34}"
   ]
  },
  {
   "cell_type": "code",
   "execution_count": 20,
   "id": "83ae5729-ed70-48a5-9c83-d32e153fdc61",
   "metadata": {},
   "outputs": [],
   "source": [
    "del d['user']"
   ]
  },
  {
   "cell_type": "code",
   "execution_count": 21,
   "id": "e9ebfdbc-6b07-42f2-8429-32cac9904c68",
   "metadata": {},
   "outputs": [
    {
     "data": {
      "text/plain": [
       "{'p': 1234, 'i': 34}"
      ]
     },
     "execution_count": 21,
     "metadata": {},
     "output_type": "execute_result"
    }
   ],
   "source": [
    "d"
   ]
  },
  {
   "cell_type": "code",
   "execution_count": 22,
   "id": "a33a86d9-e316-42b6-994b-9792f00b4a61",
   "metadata": {},
   "outputs": [],
   "source": [
    "d.clear()"
   ]
  },
  {
   "cell_type": "code",
   "execution_count": 23,
   "id": "49041a41-0171-4402-b2d1-4523d2515a13",
   "metadata": {},
   "outputs": [
    {
     "data": {
      "text/plain": [
       "{}"
      ]
     },
     "execution_count": 23,
     "metadata": {},
     "output_type": "execute_result"
    }
   ],
   "source": [
    "d"
   ]
  },
  {
   "cell_type": "code",
   "execution_count": 24,
   "id": "d44286c0-032f-4c00-a5d8-723ee80c4c1b",
   "metadata": {},
   "outputs": [],
   "source": [
    "a=[1,2]"
   ]
  },
  {
   "cell_type": "code",
   "execution_count": 25,
   "id": "ad077313-a834-46e5-b3f1-942a7c5493c5",
   "metadata": {},
   "outputs": [],
   "source": [
    "del a[1]"
   ]
  },
  {
   "cell_type": "code",
   "execution_count": 26,
   "id": "c930fc46-bb7f-4c6c-8340-1a36c0945ff3",
   "metadata": {},
   "outputs": [
    {
     "data": {
      "text/plain": [
       "[1]"
      ]
     },
     "execution_count": 26,
     "metadata": {},
     "output_type": "execute_result"
    }
   ],
   "source": [
    "a"
   ]
  },
  {
   "cell_type": "markdown",
   "id": "9fe91b23-3fc1-4993-adb3-8bf97f9950a2",
   "metadata": {},
   "source": [
    "# Useful Accessor Methods"
   ]
  },
  {
   "cell_type": "code",
   "execution_count": 27,
   "id": "ac6b6f8e-5c6b-4ab9-b5bc-30c9c49c1617",
   "metadata": {},
   "outputs": [],
   "source": [
    "d = {'user':'bozo', 'p':1234, 'i':34}"
   ]
  },
  {
   "cell_type": "code",
   "execution_count": 28,
   "id": "7aa3daab-d371-4021-80fc-18a06d77ee13",
   "metadata": {},
   "outputs": [
    {
     "data": {
      "text/plain": [
       "dict_keys(['user', 'p', 'i'])"
      ]
     },
     "execution_count": 28,
     "metadata": {},
     "output_type": "execute_result"
    }
   ],
   "source": [
    "d.keys()"
   ]
  },
  {
   "cell_type": "code",
   "execution_count": 29,
   "id": "8addcfdf-53a1-43b6-a403-740ec52a8d23",
   "metadata": {},
   "outputs": [
    {
     "data": {
      "text/plain": [
       "dict_values(['bozo', 1234, 34])"
      ]
     },
     "execution_count": 29,
     "metadata": {},
     "output_type": "execute_result"
    }
   ],
   "source": [
    "d.values()"
   ]
  },
  {
   "cell_type": "code",
   "execution_count": 30,
   "id": "9f37db3f-eff0-4097-b5fc-27354f283148",
   "metadata": {},
   "outputs": [
    {
     "data": {
      "text/plain": [
       "dict_items([('user', 'bozo'), ('p', 1234), ('i', 34)])"
      ]
     },
     "execution_count": 30,
     "metadata": {},
     "output_type": "execute_result"
    }
   ],
   "source": [
    "d.items()"
   ]
  },
  {
   "cell_type": "code",
   "execution_count": null,
   "id": "f32ad321-5ed6-4047-9736-d8c12bece519",
   "metadata": {},
   "outputs": [],
   "source": []
  }
 ],
 "metadata": {
  "kernelspec": {
   "display_name": "Python 3",
   "language": "python",
   "name": "python3"
  },
  "language_info": {
   "codemirror_mode": {
    "name": "ipython",
    "version": 3
   },
   "file_extension": ".py",
   "mimetype": "text/x-python",
   "name": "python",
   "nbconvert_exporter": "python",
   "pygments_lexer": "ipython3",
   "version": "3.9.4"
  }
 },
 "nbformat": 4,
 "nbformat_minor": 5
}
