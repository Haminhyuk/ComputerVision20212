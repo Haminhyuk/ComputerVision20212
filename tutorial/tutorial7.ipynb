{
 "cells": [
  {
   "cell_type": "markdown",
   "id": "2017a116-eae9-4fdc-ad87-305500fb9c0d",
   "metadata": {},
   "source": [
    "# List Comprehensions"
   ]
  },
  {
   "cell_type": "code",
   "execution_count": 1,
   "id": "56f440b2-891e-486f-a09e-78ba6d70970f",
   "metadata": {},
   "outputs": [],
   "source": [
    "li = [3,6,2,7]"
   ]
  },
  {
   "cell_type": "code",
   "execution_count": 2,
   "id": "d0ac3f2b-37c2-48e8-bb67-eda6911978e0",
   "metadata": {},
   "outputs": [
    {
     "data": {
      "text/plain": [
       "[6, 12, 4, 14]"
      ]
     },
     "execution_count": 2,
     "metadata": {},
     "output_type": "execute_result"
    }
   ],
   "source": [
    "[elem*2 for elem in li]"
   ]
  },
  {
   "cell_type": "code",
   "execution_count": 3,
   "id": "af578d52-1c35-4584-9357-0669500f6d64",
   "metadata": {},
   "outputs": [],
   "source": [
    "li = [('a', 1), ('b', 2), ('c', 7)]"
   ]
  },
  {
   "cell_type": "code",
   "execution_count": 4,
   "id": "ad9b8613-9a56-4b42-80cd-38597e3c4e29",
   "metadata": {},
   "outputs": [
    {
     "data": {
      "text/plain": [
       "[3, 6, 21]"
      ]
     },
     "execution_count": 4,
     "metadata": {},
     "output_type": "execute_result"
    }
   ],
   "source": [
    "[ n*3 for (x,n) in li]"
   ]
  },
  {
   "cell_type": "markdown",
   "id": "9bdcff45-cbb3-47da-aff7-07b2e4b89c89",
   "metadata": {},
   "source": [
    "# Filtered List Comprehension"
   ]
  },
  {
   "cell_type": "code",
   "execution_count": 5,
   "id": "61b47f0f-4d07-4953-b2cf-0363abeff082",
   "metadata": {},
   "outputs": [],
   "source": [
    "li = [3, 6, 2, 7, 1, 9]"
   ]
  },
  {
   "cell_type": "code",
   "execution_count": 6,
   "id": "064850db-b1c0-46a9-a863-956f5ee1fefe",
   "metadata": {},
   "outputs": [
    {
     "data": {
      "text/plain": [
       "[12, 14, 18]"
      ]
     },
     "execution_count": 6,
     "metadata": {},
     "output_type": "execute_result"
    }
   ],
   "source": [
    "[elem*2 for elem in li if elem > 4]"
   ]
  },
  {
   "cell_type": "markdown",
   "id": "498d281b-0f30-4fcd-a70f-624de1aaada8",
   "metadata": {},
   "source": [
    "# Nested List Comprehensions"
   ]
  },
  {
   "cell_type": "code",
   "execution_count": 10,
   "id": "db55ea08-08c8-4bd1-b554-d447f9ce2193",
   "metadata": {},
   "outputs": [],
   "source": [
    "li = [3, 2, 4, 1]"
   ]
  },
  {
   "cell_type": "code",
   "execution_count": 11,
   "id": "362fe1c7-f01c-4f46-af3e-e8296cdb5d7f",
   "metadata": {},
   "outputs": [
    {
     "data": {
      "text/plain": [
       "[8, 6, 10, 4]"
      ]
     },
     "execution_count": 11,
     "metadata": {},
     "output_type": "execute_result"
    }
   ],
   "source": [
    "[elem*2 for elem in [item+1 for item in li]]"
   ]
  },
  {
   "cell_type": "code",
   "execution_count": null,
   "id": "97777003-d5e0-4e93-9fe1-3eac4cc70e98",
   "metadata": {},
   "outputs": [],
   "source": []
  }
 ],
 "metadata": {
  "kernelspec": {
   "display_name": "Python 3",
   "language": "python",
   "name": "python3"
  },
  "language_info": {
   "codemirror_mode": {
    "name": "ipython",
    "version": 3
   },
   "file_extension": ".py",
   "mimetype": "text/x-python",
   "name": "python",
   "nbconvert_exporter": "python",
   "pygments_lexer": "ipython3",
   "version": "3.9.4"
  }
 },
 "nbformat": 4,
 "nbformat_minor": 5
}
