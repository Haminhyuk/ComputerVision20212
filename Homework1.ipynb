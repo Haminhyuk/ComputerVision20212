{
 "cells": [
  {
   "cell_type": "code",
   "execution_count": 55,
   "id": "f23a704a",
   "metadata": {},
   "outputs": [],
   "source": [
    "import numpy as np\n",
    "import cv2"
   ]
  },
  {
   "cell_type": "code",
   "execution_count": 56,
   "id": "495ddaf5-17de-46cc-b999-b5d215a145e1",
   "metadata": {},
   "outputs": [],
   "source": [
    "def nothing(x):\n",
    "    pass"
   ]
  },
  {
   "cell_type": "code",
   "execution_count": 58,
   "id": "f7026541-76ae-479a-9789-d2510faa0a94",
   "metadata": {},
   "outputs": [],
   "source": [
    "img = cv2.imread('bg.jpg')\n",
    "font = cv2.FONT_HERSHEY_SIMPLEX\n",
    "drawing = False \n",
    "mode = True \n",
    "ix,iy = -1,-1\n",
    "\n",
    "cv2.namedWindow('image')\n",
    "cv2.setMouseCallback('image',draw_circle)\n",
    "\n",
    "cv2.createTrackbar('Value','image',0,255,nothing)\n",
    "\n",
    "# mouse callback function\n",
    "def draw_circle(event,x,y,flags,param):\n",
    "    global ix,iy,drawing,mode,img\n",
    "    text = \"Mouse position : (\" + str(ix) + \",\" + str(iy) + \") - (\" + str(x) + \",\" + str(y) + \")\"\n",
    "    if event == cv2.EVENT_LBUTTONDOWN:\n",
    "        drawing = True\n",
    "        ix,iy = x,y\n",
    "    elif event == cv2.EVENT_MOUSEMOVE:\n",
    "        if drawing == True:\n",
    "            if mode == True:\n",
    "                img = cv2.imread('bg.jpg')\n",
    "                cv2.rectangle(img,(ix,iy),(x,y),(0,0,255), -1)\n",
    "                cv2.putText(img, text, (0, 40), font, 1, (255, 255, 255), 1, cv2.LINE_AA)\n",
    "            else:\n",
    "                cv2.circle(img,(x,y),5,(255,0,0),-1)\n",
    "            \n",
    "                \n",
    "                \n",
    "    elif event == cv2.EVENT_LBUTTONUP:\n",
    "        drawing = False\n",
    "        cv2.rectangle(img,(ix,iy),(x,y),(0,0,255),-1)\n",
    "        cv2.putText(img, text, (0, 40), font, 1, (255, 255, 255), 1, cv2.LINE_AA)\n",
    "            \n",
    "while(1):\n",
    "    cv2.imshow('image', img)\n",
    "    k = cv2.waitKey(1) & 0xFF\n",
    "    if k == ord('m'):\n",
    "        mode = not mode\n",
    "    elif k == 27:\n",
    "        break\n",
    "\n",
    "        \n",
    "cv2.destroyAllWindows()"
   ]
  },
  {
   "cell_type": "code",
   "execution_count": null,
   "id": "7d7a4d71-b5fd-497e-a414-2267cfd73c63",
   "metadata": {},
   "outputs": [],
   "source": []
  }
 ],
 "metadata": {
  "kernelspec": {
   "display_name": "Python 3",
   "language": "python",
   "name": "python3"
  },
  "language_info": {
   "codemirror_mode": {
    "name": "ipython",
    "version": 3
   },
   "file_extension": ".py",
   "mimetype": "text/x-python",
   "name": "python",
   "nbconvert_exporter": "python",
   "pygments_lexer": "ipython3",
   "version": "3.9.4"
  }
 },
 "nbformat": 4,
 "nbformat_minor": 5
}
